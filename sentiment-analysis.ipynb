{
 "cells": [
  {
   "cell_type": "code",
   "id": "initial_id",
   "metadata": {
    "collapsed": true,
    "ExecuteTime": {
     "end_time": "2025-05-04T16:11:15.206608Z",
     "start_time": "2025-05-04T16:11:15.141670Z"
    }
   },
   "source": [
    "'The point of doing sentiment analysis is that lets say user wants to read the book on the basis of emotion or they want to feel a said emotion by reading a book so the recommender can recommend book based on the sentiment of the user'\n",
    "import pandas as pd\n",
    "books = pd.read_csv('books_with_categories.csv')"
   ],
   "outputs": [],
   "execution_count": 1
  },
  {
   "metadata": {
    "ExecuteTime": {
     "end_time": "2025-05-04T16:16:53.907665Z",
     "start_time": "2025-05-04T16:16:52.601401Z"
    }
   },
   "cell_type": "code",
   "source": [
    "from transformers import pipeline\n",
    "classifier = pipeline(\"text-classification\",\n",
    "                      model=\"j-hartmann/emotion-english-distilroberta-base\",\n",
    "                      top_k = None,\n",
    "                      device = \"mps\")\n",
    "classifier(\"I love this!\")"
   ],
   "id": "b63ce50d0b938f6f",
   "outputs": [
    {
     "name": "stderr",
     "output_type": "stream",
     "text": [
      "Device set to use mps\n"
     ]
    },
    {
     "data": {
      "text/plain": [
       "[[{'label': 'joy', 'score': 0.9771687984466553},\n",
       "  {'label': 'surprise', 'score': 0.00852868054062128},\n",
       "  {'label': 'neutral', 'score': 0.005764600355178118},\n",
       "  {'label': 'anger', 'score': 0.004419783595949411},\n",
       "  {'label': 'sadness', 'score': 0.002092392183840275},\n",
       "  {'label': 'disgust', 'score': 0.001611993182450533},\n",
       "  {'label': 'fear', 'score': 0.0004138521908316761}]]"
      ]
     },
     "execution_count": 3,
     "metadata": {},
     "output_type": "execute_result"
    }
   ],
   "execution_count": 3
  },
  {
   "metadata": {
    "ExecuteTime": {
     "end_time": "2025-05-04T16:22:18.153052Z",
     "start_time": "2025-05-04T16:22:18.126640Z"
    }
   },
   "cell_type": "code",
   "source": [
    "'I can either get the sentiment classifier to try to predict the overall emotion or it can be broken down into single sentences and analyse them'\n",
    "books[\"description\"][0]"
   ],
   "id": "23d710a81ca85204",
   "outputs": [
    {
     "data": {
      "text/plain": [
       "'A NOVEL THAT READERS and critics have been eagerly anticipating for over a decade, Gilead is an astonishingly imagined story of remarkable lives. John Ames is a preacher, the son of a preacher and the grandson (both maternal and paternal) of preachers. It’s 1956 in Gilead, Iowa, towards the end of the Reverend Ames’s life, and he is absorbed in recording his family’s story, a legacy for the young son he will never see grow up. Haunted by his grandfather’s presence, John tells of the rift between his grandfather and his father: the elder, an angry visionary who fought for the abolitionist cause, and his son, an ardent pacifist. He is troubled, too, by his prodigal namesake, Jack (John Ames) Boughton, his best friend’s lost son who returns to Gilead searching for forgiveness and redemption. Told in John Ames’s joyous, rambling voice that finds beauty, humour and truth in the smallest of life’s details, Gilead is a song of celebration and acceptance of the best and the worst the world has to offer. At its heart is a tale of the sacred bonds between fathers and sons, pitch-perfect in style and story, set to dazzle critics and readers alike.'"
      ]
     },
     "execution_count": 4,
     "metadata": {},
     "output_type": "execute_result"
    }
   ],
   "execution_count": 4
  },
  {
   "metadata": {
    "ExecuteTime": {
     "end_time": "2025-05-04T16:22:37.362766Z",
     "start_time": "2025-05-04T16:22:35.673564Z"
    }
   },
   "cell_type": "code",
   "source": "classifier(books[\"description\"][0])",
   "id": "b44c91785a18c024",
   "outputs": [
    {
     "data": {
      "text/plain": [
       "[[{'label': 'fear', 'score': 0.6548417806625366},\n",
       "  {'label': 'neutral', 'score': 0.1698518991470337},\n",
       "  {'label': 'sadness', 'score': 0.11640851199626923},\n",
       "  {'label': 'surprise', 'score': 0.020700646564364433},\n",
       "  {'label': 'disgust', 'score': 0.019100725650787354},\n",
       "  {'label': 'joy', 'score': 0.01516126561909914},\n",
       "  {'label': 'anger', 'score': 0.003935153130441904}]]"
      ]
     },
     "execution_count": 5,
     "metadata": {},
     "output_type": "execute_result"
    }
   ],
   "execution_count": 5
  },
  {
   "metadata": {
    "ExecuteTime": {
     "end_time": "2025-05-04T16:24:06.512141Z",
     "start_time": "2025-05-04T16:24:01.177358Z"
    }
   },
   "cell_type": "code",
   "source": [
    "classifier(books[\"description\"][0].split(\".\"))\n",
    "#basically now the description is split in individual sentences and there is more variety and somewhat accurate"
   ],
   "id": "1f7fa74eb170c30",
   "outputs": [
    {
     "data": {
      "text/plain": [
       "[[{'label': 'surprise', 'score': 0.7296027541160583},\n",
       "  {'label': 'neutral', 'score': 0.1403856724500656},\n",
       "  {'label': 'fear', 'score': 0.06816212832927704},\n",
       "  {'label': 'joy', 'score': 0.04794240742921829},\n",
       "  {'label': 'anger', 'score': 0.009156349115073681},\n",
       "  {'label': 'disgust', 'score': 0.002628474263474345},\n",
       "  {'label': 'sadness', 'score': 0.0021221607457846403}],\n",
       " [{'label': 'neutral', 'score': 0.449371337890625},\n",
       "  {'label': 'disgust', 'score': 0.2735912799835205},\n",
       "  {'label': 'joy', 'score': 0.10908260941505432},\n",
       "  {'label': 'sadness', 'score': 0.09362735599279404},\n",
       "  {'label': 'anger', 'score': 0.04047820344567299},\n",
       "  {'label': 'surprise', 'score': 0.026970213279128075},\n",
       "  {'label': 'fear', 'score': 0.006879056803882122}],\n",
       " [{'label': 'neutral', 'score': 0.6462153196334839},\n",
       "  {'label': 'sadness', 'score': 0.24273410439491272},\n",
       "  {'label': 'disgust', 'score': 0.04342260584235191},\n",
       "  {'label': 'surprise', 'score': 0.028300518169999123},\n",
       "  {'label': 'joy', 'score': 0.014211433008313179},\n",
       "  {'label': 'fear', 'score': 0.014084103517234325},\n",
       "  {'label': 'anger', 'score': 0.01103186421096325}],\n",
       " [{'label': 'fear', 'score': 0.928168535232544},\n",
       "  {'label': 'anger', 'score': 0.03219064697623253},\n",
       "  {'label': 'neutral', 'score': 0.012808657251298428},\n",
       "  {'label': 'sadness', 'score': 0.008756839670240879},\n",
       "  {'label': 'surprise', 'score': 0.008597886189818382},\n",
       "  {'label': 'disgust', 'score': 0.008431793190538883},\n",
       "  {'label': 'joy', 'score': 0.0010455806041136384}],\n",
       " [{'label': 'sadness', 'score': 0.9671575427055359},\n",
       "  {'label': 'neutral', 'score': 0.015104170888662338},\n",
       "  {'label': 'disgust', 'score': 0.006480605341494083},\n",
       "  {'label': 'fear', 'score': 0.005394000560045242},\n",
       "  {'label': 'surprise', 'score': 0.0022869419772177935},\n",
       "  {'label': 'anger', 'score': 0.001842890284024179},\n",
       "  {'label': 'joy', 'score': 0.00173387979157269}],\n",
       " [{'label': 'joy', 'score': 0.9327973127365112},\n",
       "  {'label': 'disgust', 'score': 0.03771761432290077},\n",
       "  {'label': 'neutral', 'score': 0.01589193381369114},\n",
       "  {'label': 'sadness', 'score': 0.006444534286856651},\n",
       "  {'label': 'anger', 'score': 0.005025009158998728},\n",
       "  {'label': 'surprise', 'score': 0.0015812104102224112},\n",
       "  {'label': 'fear', 'score': 0.0005423093680292368}],\n",
       " [{'label': 'joy', 'score': 0.652869701385498},\n",
       "  {'label': 'neutral', 'score': 0.25427550077438354},\n",
       "  {'label': 'surprise', 'score': 0.0680832490324974},\n",
       "  {'label': 'sadness', 'score': 0.009909017011523247},\n",
       "  {'label': 'disgust', 'score': 0.00651221489533782},\n",
       "  {'label': 'anger', 'score': 0.004821309819817543},\n",
       "  {'label': 'fear', 'score': 0.0035290250089019537}],\n",
       " [{'label': 'neutral', 'score': 0.5494771003723145},\n",
       "  {'label': 'sadness', 'score': 0.11169013381004333},\n",
       "  {'label': 'disgust', 'score': 0.10400660336017609},\n",
       "  {'label': 'surprise', 'score': 0.07876546680927277},\n",
       "  {'label': 'anger', 'score': 0.06413356214761734},\n",
       "  {'label': 'fear', 'score': 0.05136275663971901},\n",
       "  {'label': 'joy', 'score': 0.040564361959695816}]]"
      ]
     },
     "execution_count": 6,
     "metadata": {},
     "output_type": "execute_result"
    }
   ],
   "execution_count": 6
  },
  {
   "metadata": {
    "ExecuteTime": {
     "end_time": "2025-05-04T16:25:43.641100Z",
     "start_time": "2025-05-04T16:25:43.010406Z"
    }
   },
   "cell_type": "code",
   "source": [
    "sentences = books[\"description\"][0].split(\".\")\n",
    "prediction = classifier(sentences)"
   ],
   "id": "bcc61b7887c9a8a0",
   "outputs": [],
   "execution_count": 7
  },
  {
   "metadata": {
    "ExecuteTime": {
     "end_time": "2025-05-04T16:25:58.793736Z",
     "start_time": "2025-05-04T16:25:58.782814Z"
    }
   },
   "cell_type": "code",
   "source": "sentences[0]",
   "id": "e5b5bcf3e384d577",
   "outputs": [
    {
     "data": {
      "text/plain": [
       "'A NOVEL THAT READERS and critics have been eagerly anticipating for over a decade, Gilead is an astonishingly imagined story of remarkable lives'"
      ]
     },
     "execution_count": 8,
     "metadata": {},
     "output_type": "execute_result"
    }
   ],
   "execution_count": 8
  },
  {
   "metadata": {
    "ExecuteTime": {
     "end_time": "2025-05-04T16:26:06.013860Z",
     "start_time": "2025-05-04T16:26:06.004671Z"
    }
   },
   "cell_type": "code",
   "source": "prediction[0]",
   "id": "583dac9239720101",
   "outputs": [
    {
     "data": {
      "text/plain": [
       "[{'label': 'surprise', 'score': 0.7296027541160583},\n",
       " {'label': 'neutral', 'score': 0.1403856724500656},\n",
       " {'label': 'fear', 'score': 0.06816212832927704},\n",
       " {'label': 'joy', 'score': 0.04794240742921829},\n",
       " {'label': 'anger', 'score': 0.009156349115073681},\n",
       " {'label': 'disgust', 'score': 0.002628474263474345},\n",
       " {'label': 'sadness', 'score': 0.0021221607457846403}]"
      ]
     },
     "execution_count": 9,
     "metadata": {},
     "output_type": "execute_result"
    }
   ],
   "execution_count": 9
  },
  {
   "metadata": {
    "ExecuteTime": {
     "end_time": "2025-05-04T16:26:16.988510Z",
     "start_time": "2025-05-04T16:26:16.969012Z"
    }
   },
   "cell_type": "code",
   "source": "sentences[3]",
   "id": "2ed06990a3f3b7eb",
   "outputs": [
    {
     "data": {
      "text/plain": [
       "' Haunted by his grandfather’s presence, John tells of the rift between his grandfather and his father: the elder, an angry visionary who fought for the abolitionist cause, and his son, an ardent pacifist'"
      ]
     },
     "execution_count": 10,
     "metadata": {},
     "output_type": "execute_result"
    }
   ],
   "execution_count": 10
  },
  {
   "metadata": {
    "ExecuteTime": {
     "end_time": "2025-05-04T16:26:23.684930Z",
     "start_time": "2025-05-04T16:26:23.677706Z"
    }
   },
   "cell_type": "code",
   "source": "prediction[3]",
   "id": "d7f3b23ca5221b05",
   "outputs": [
    {
     "data": {
      "text/plain": [
       "[{'label': 'fear', 'score': 0.928168535232544},\n",
       " {'label': 'anger', 'score': 0.03219064697623253},\n",
       " {'label': 'neutral', 'score': 0.012808657251298428},\n",
       " {'label': 'sadness', 'score': 0.008756839670240879},\n",
       " {'label': 'surprise', 'score': 0.008597886189818382},\n",
       " {'label': 'disgust', 'score': 0.008431793190538883},\n",
       " {'label': 'joy', 'score': 0.0010455806041136384}]"
      ]
     },
     "execution_count": 11,
     "metadata": {},
     "output_type": "execute_result"
    }
   ],
   "execution_count": 11
  },
  {
   "metadata": {},
   "cell_type": "code",
   "outputs": [],
   "execution_count": null,
   "source": "'Now it has to make sense of it. each book can have a separate column for each of the 7 emotion classes and instead of assigning them to a category of isthis or isnt this, take the highest probability from across the whole description for that particular sentiment, so for example joy is high in one sentence but low in other so just take that highest number for the joy sentiment for the book. I need to efficient extract the maximum emotion probability for each emotion for each description'",
   "id": "bdb7b78a74b52097"
  },
  {
   "metadata": {
    "ExecuteTime": {
     "end_time": "2025-05-04T16:32:08.838078Z",
     "start_time": "2025-05-04T16:32:08.825237Z"
    }
   },
   "cell_type": "code",
   "source": "prediction",
   "id": "cc25a0a20500c3ec",
   "outputs": [
    {
     "data": {
      "text/plain": [
       "[[{'label': 'surprise', 'score': 0.7296027541160583},\n",
       "  {'label': 'neutral', 'score': 0.1403856724500656},\n",
       "  {'label': 'fear', 'score': 0.06816212832927704},\n",
       "  {'label': 'joy', 'score': 0.04794240742921829},\n",
       "  {'label': 'anger', 'score': 0.009156349115073681},\n",
       "  {'label': 'disgust', 'score': 0.002628474263474345},\n",
       "  {'label': 'sadness', 'score': 0.0021221607457846403}],\n",
       " [{'label': 'neutral', 'score': 0.449371337890625},\n",
       "  {'label': 'disgust', 'score': 0.2735912799835205},\n",
       "  {'label': 'joy', 'score': 0.10908260941505432},\n",
       "  {'label': 'sadness', 'score': 0.09362735599279404},\n",
       "  {'label': 'anger', 'score': 0.04047820344567299},\n",
       "  {'label': 'surprise', 'score': 0.026970213279128075},\n",
       "  {'label': 'fear', 'score': 0.006879056803882122}],\n",
       " [{'label': 'neutral', 'score': 0.6462153196334839},\n",
       "  {'label': 'sadness', 'score': 0.24273410439491272},\n",
       "  {'label': 'disgust', 'score': 0.04342260584235191},\n",
       "  {'label': 'surprise', 'score': 0.028300518169999123},\n",
       "  {'label': 'joy', 'score': 0.014211433008313179},\n",
       "  {'label': 'fear', 'score': 0.014084103517234325},\n",
       "  {'label': 'anger', 'score': 0.01103186421096325}],\n",
       " [{'label': 'fear', 'score': 0.928168535232544},\n",
       "  {'label': 'anger', 'score': 0.03219064697623253},\n",
       "  {'label': 'neutral', 'score': 0.012808657251298428},\n",
       "  {'label': 'sadness', 'score': 0.008756839670240879},\n",
       "  {'label': 'surprise', 'score': 0.008597886189818382},\n",
       "  {'label': 'disgust', 'score': 0.008431793190538883},\n",
       "  {'label': 'joy', 'score': 0.0010455806041136384}],\n",
       " [{'label': 'sadness', 'score': 0.9671575427055359},\n",
       "  {'label': 'neutral', 'score': 0.015104170888662338},\n",
       "  {'label': 'disgust', 'score': 0.006480605341494083},\n",
       "  {'label': 'fear', 'score': 0.005394000560045242},\n",
       "  {'label': 'surprise', 'score': 0.0022869419772177935},\n",
       "  {'label': 'anger', 'score': 0.001842890284024179},\n",
       "  {'label': 'joy', 'score': 0.00173387979157269}],\n",
       " [{'label': 'joy', 'score': 0.9327973127365112},\n",
       "  {'label': 'disgust', 'score': 0.03771761432290077},\n",
       "  {'label': 'neutral', 'score': 0.01589193381369114},\n",
       "  {'label': 'sadness', 'score': 0.006444534286856651},\n",
       "  {'label': 'anger', 'score': 0.005025009158998728},\n",
       "  {'label': 'surprise', 'score': 0.0015812104102224112},\n",
       "  {'label': 'fear', 'score': 0.0005423093680292368}],\n",
       " [{'label': 'joy', 'score': 0.652869701385498},\n",
       "  {'label': 'neutral', 'score': 0.25427550077438354},\n",
       "  {'label': 'surprise', 'score': 0.0680832490324974},\n",
       "  {'label': 'sadness', 'score': 0.009909017011523247},\n",
       "  {'label': 'disgust', 'score': 0.00651221489533782},\n",
       "  {'label': 'anger', 'score': 0.004821309819817543},\n",
       "  {'label': 'fear', 'score': 0.0035290250089019537}],\n",
       " [{'label': 'neutral', 'score': 0.5494771003723145},\n",
       "  {'label': 'sadness', 'score': 0.11169013381004333},\n",
       "  {'label': 'disgust', 'score': 0.10400660336017609},\n",
       "  {'label': 'surprise', 'score': 0.07876546680927277},\n",
       "  {'label': 'anger', 'score': 0.06413356214761734},\n",
       "  {'label': 'fear', 'score': 0.05136275663971901},\n",
       "  {'label': 'joy', 'score': 0.040564361959695816}]]"
      ]
     },
     "execution_count": 12,
     "metadata": {},
     "output_type": "execute_result"
    }
   ],
   "execution_count": 12
  },
  {
   "metadata": {
    "ExecuteTime": {
     "end_time": "2025-05-04T16:32:48.671598Z",
     "start_time": "2025-05-04T16:32:48.660821Z"
    }
   },
   "cell_type": "code",
   "source": "sorted(prediction[0], key=lambda x: x[\"label\"])",
   "id": "9a05850fd005ac09",
   "outputs": [
    {
     "data": {
      "text/plain": [
       "[{'label': 'anger', 'score': 0.009156349115073681},\n",
       " {'label': 'disgust', 'score': 0.002628474263474345},\n",
       " {'label': 'fear', 'score': 0.06816212832927704},\n",
       " {'label': 'joy', 'score': 0.04794240742921829},\n",
       " {'label': 'neutral', 'score': 0.1403856724500656},\n",
       " {'label': 'sadness', 'score': 0.0021221607457846403},\n",
       " {'label': 'surprise', 'score': 0.7296027541160583}]"
      ]
     },
     "execution_count": 13,
     "metadata": {},
     "output_type": "execute_result"
    }
   ],
   "execution_count": 13
  },
  {
   "metadata": {
    "ExecuteTime": {
     "end_time": "2025-05-04T16:48:00.606859Z",
     "start_time": "2025-05-04T16:48:00.572931Z"
    }
   },
   "cell_type": "code",
   "source": [
    "import numpy as np\n",
    "\n",
    "emotion_labels = [\"anger\", \"disgust\", \"fear\", \"joy\", \"sadness\", \"surprise\", \"neutral\"]\n",
    "isbn = []\n",
    "emotion_scores = {label: [] for label in emotion_labels} #to store score for every single description for each of these labels\n",
    "\n",
    "def calculate_max_emotion_score(prediction):\n",
    "    per_emotion_score = {label: [] for label in emotion_labels} #to store score for a particular description\n",
    "    for prediction in prediction:  #we loop over each of the sentences returned by prediction\n",
    "        sorted_prediction = sorted(prediction, key=lambda x: x[\"label\"])\n",
    "        #so all labels are in order for every description and then we loop over that and per each of those emotions, the score is extracted and it is appended using the correct label, then i append this to the dictionary and we take the max score for each of those emotions\n",
    "        for index, label in enumerate(emotion_labels):\n",
    "            per_emotion_score[label].append(sorted_prediction[index][\"score\"])\n",
    "\n",
    "    return {label:np.max(scores) for label, scores in per_emotion_score.items()}\n"
   ],
   "id": "2867b98fca29ef0b",
   "outputs": [],
   "execution_count": 14
  },
  {
   "metadata": {
    "ExecuteTime": {
     "end_time": "2025-05-04T16:51:46.819498Z",
     "start_time": "2025-05-04T16:51:29.299449Z"
    }
   },
   "cell_type": "code",
   "source": [
    "for i in range(10):\n",
    "    isbn.append(books[\"isbn13\"][i])\n",
    "    sentences = books[\"description\"][i].split(\".\")\n",
    "    prediction = classifier(sentences)\n",
    "    max_scores = calculate_max_emotion_score(prediction)\n",
    "    for label in emotion_labels:\n",
    "        emotion_scores[label].append(max_scores[label])"
   ],
   "id": "fb35195f74bc44c",
   "outputs": [],
   "execution_count": 15
  },
  {
   "metadata": {
    "ExecuteTime": {
     "end_time": "2025-05-04T16:51:48.264417Z",
     "start_time": "2025-05-04T16:51:48.257640Z"
    }
   },
   "cell_type": "code",
   "source": "emotion_scores",
   "id": "c13d5abdcf37a7a0",
   "outputs": [
    {
     "data": {
      "text/plain": [
       "{'anger': [np.float64(0.06413356214761734),\n",
       "  np.float64(0.612618625164032),\n",
       "  np.float64(0.06413356214761734),\n",
       "  np.float64(0.35148370265960693),\n",
       "  np.float64(0.0814124196767807),\n",
       "  np.float64(0.23222501575946808),\n",
       "  np.float64(0.5381841063499451),\n",
       "  np.float64(0.06413356214761734),\n",
       "  np.float64(0.3006702959537506),\n",
       "  np.float64(0.06413356214761734)],\n",
       " 'disgust': [np.float64(0.2735912799835205),\n",
       "  np.float64(0.3482849597930908),\n",
       "  np.float64(0.10400660336017609),\n",
       "  np.float64(0.15072238445281982),\n",
       "  np.float64(0.1844952255487442),\n",
       "  np.float64(0.727174699306488),\n",
       "  np.float64(0.15585507452487946),\n",
       "  np.float64(0.10400660336017609),\n",
       "  np.float64(0.2794807255268097),\n",
       "  np.float64(0.17792712152004242)],\n",
       " 'fear': [np.float64(0.928168535232544),\n",
       "  np.float64(0.9425278306007385),\n",
       "  np.float64(0.9723208546638489),\n",
       "  np.float64(0.3607065975666046),\n",
       "  np.float64(0.09504325687885284),\n",
       "  np.float64(0.05136275663971901),\n",
       "  np.float64(0.7474278807640076),\n",
       "  np.float64(0.4044959247112274),\n",
       "  np.float64(0.9155239462852478),\n",
       "  np.float64(0.05136275663971901)],\n",
       " 'joy': [np.float64(0.9327973127365112),\n",
       "  np.float64(0.7044211030006409),\n",
       "  np.float64(0.7672379612922668),\n",
       "  np.float64(0.2518810033798218),\n",
       "  np.float64(0.040564361959695816),\n",
       "  np.float64(0.04337586089968681),\n",
       "  np.float64(0.8725655674934387),\n",
       "  np.float64(0.040564361959695816),\n",
       "  np.float64(0.040564361959695816),\n",
       "  np.float64(0.040564361959695816)],\n",
       " 'sadness': [np.float64(0.6462153196334839),\n",
       "  np.float64(0.887939453125),\n",
       "  np.float64(0.5494771003723145),\n",
       "  np.float64(0.732686460018158),\n",
       "  np.float64(0.8843892216682434),\n",
       "  np.float64(0.6213930249214172),\n",
       "  np.float64(0.7121943831443787),\n",
       "  np.float64(0.5494771003723145),\n",
       "  np.float64(0.8402897119522095),\n",
       "  np.float64(0.8603722453117371)],\n",
       " 'surprise': [np.float64(0.9671575427055359),\n",
       "  np.float64(0.11169013381004333),\n",
       "  np.float64(0.11169013381004333),\n",
       "  np.float64(0.11169013381004333),\n",
       "  np.float64(0.47588104009628296),\n",
       "  np.float64(0.11169013381004333),\n",
       "  np.float64(0.4079996347427368),\n",
       "  np.float64(0.8202822804450989),\n",
       "  np.float64(0.3544590175151825),\n",
       "  np.float64(0.11169013381004333)],\n",
       " 'neutral': [np.float64(0.7296027541160583),\n",
       "  np.float64(0.2525450587272644),\n",
       "  np.float64(0.07876546680927277),\n",
       "  np.float64(0.07876546680927277),\n",
       "  np.float64(0.07876546680927277),\n",
       "  np.float64(0.2719023823738098),\n",
       "  np.float64(0.07876546680927277),\n",
       "  np.float64(0.23448771238327026),\n",
       "  np.float64(0.13561463356018066),\n",
       "  np.float64(0.07876546680927277)]}"
      ]
     },
     "execution_count": 16,
     "metadata": {},
     "output_type": "execute_result"
    }
   ],
   "execution_count": 16
  },
  {
   "metadata": {
    "ExecuteTime": {
     "end_time": "2025-05-04T17:16:07.100310Z",
     "start_time": "2025-05-04T16:55:54.396368Z"
    }
   },
   "cell_type": "code",
   "source": [
    "from tqdm import tqdm\n",
    "\n",
    "emotion_labels = [\"anger\", \"disgust\", \"fear\", \"joy\", \"sadness\", \"surprise\", \"neutral\"]\n",
    "isbn = []\n",
    "emotion_scores = {label: [] for label in emotion_labels} #to store score for every single description for each of these labels\n",
    "\n",
    "for i in tqdm(range(len(books))):\n",
    "    isbn.append(books[\"isbn13\"][i])\n",
    "    sentences = books[\"description\"][i].split(\".\")\n",
    "    prediction = classifier(sentences)\n",
    "    max_scores = calculate_max_emotion_score(prediction)\n",
    "    for label in emotion_labels:\n",
    "        emotion_scores[label].append(max_scores[label])"
   ],
   "id": "a0aec50cdcd1490d",
   "outputs": [
    {
     "name": "stderr",
     "output_type": "stream",
     "text": [
      "100%|██████████| 5197/5197 [20:12<00:00,  4.29it/s]\n"
     ]
    }
   ],
   "execution_count": 17
  },
  {
   "metadata": {
    "ExecuteTime": {
     "end_time": "2025-05-04T17:16:58.261235Z",
     "start_time": "2025-05-04T17:16:58.201353Z"
    }
   },
   "cell_type": "code",
   "source": [
    "emotions_df = pd.DataFrame(emotion_scores)\n",
    "emotions_df[\"isbn13\"] = isbn"
   ],
   "id": "cdd6d1077d8176ab",
   "outputs": [],
   "execution_count": 18
  },
  {
   "metadata": {
    "ExecuteTime": {
     "end_time": "2025-05-04T17:16:59.417310Z",
     "start_time": "2025-05-04T17:16:59.362313Z"
    }
   },
   "cell_type": "code",
   "source": "emotions_df",
   "id": "ac6d2df768f81b73",
   "outputs": [
    {
     "data": {
      "text/plain": [
       "         anger   disgust      fear       joy   sadness  surprise   neutral  \\\n",
       "0     0.064134  0.273591  0.928169  0.932797  0.646215  0.967158  0.729603   \n",
       "1     0.612619  0.348285  0.942528  0.704421  0.887939  0.111690  0.252545   \n",
       "2     0.064134  0.104007  0.972321  0.767238  0.549477  0.111690  0.078765   \n",
       "3     0.351484  0.150722  0.360707  0.251881  0.732686  0.111690  0.078765   \n",
       "4     0.081412  0.184495  0.095043  0.040564  0.884389  0.475881  0.078765   \n",
       "...        ...       ...       ...       ...       ...       ...       ...   \n",
       "5192  0.148208  0.030643  0.919165  0.255169  0.853722  0.980877  0.030656   \n",
       "5193  0.064134  0.114383  0.051363  0.400263  0.883198  0.111690  0.227765   \n",
       "5194  0.009997  0.009929  0.339217  0.947779  0.375756  0.066685  0.057625   \n",
       "5195  0.064134  0.104007  0.459269  0.759455  0.951104  0.368110  0.078765   \n",
       "5196  0.064134  0.104007  0.051363  0.958549  0.915193  0.111690  0.078765   \n",
       "\n",
       "             isbn13  \n",
       "0     9780002005883  \n",
       "1     9780002261982  \n",
       "2     9780006178736  \n",
       "3     9780006280897  \n",
       "4     9780006280934  \n",
       "...             ...  \n",
       "5192  9788172235222  \n",
       "5193  9788173031014  \n",
       "5194  9788179921623  \n",
       "5195  9788185300535  \n",
       "5196  9789027712059  \n",
       "\n",
       "[5197 rows x 8 columns]"
      ],
      "text/html": [
       "<div>\n",
       "<style scoped>\n",
       "    .dataframe tbody tr th:only-of-type {\n",
       "        vertical-align: middle;\n",
       "    }\n",
       "\n",
       "    .dataframe tbody tr th {\n",
       "        vertical-align: top;\n",
       "    }\n",
       "\n",
       "    .dataframe thead th {\n",
       "        text-align: right;\n",
       "    }\n",
       "</style>\n",
       "<table border=\"1\" class=\"dataframe\">\n",
       "  <thead>\n",
       "    <tr style=\"text-align: right;\">\n",
       "      <th></th>\n",
       "      <th>anger</th>\n",
       "      <th>disgust</th>\n",
       "      <th>fear</th>\n",
       "      <th>joy</th>\n",
       "      <th>sadness</th>\n",
       "      <th>surprise</th>\n",
       "      <th>neutral</th>\n",
       "      <th>isbn13</th>\n",
       "    </tr>\n",
       "  </thead>\n",
       "  <tbody>\n",
       "    <tr>\n",
       "      <th>0</th>\n",
       "      <td>0.064134</td>\n",
       "      <td>0.273591</td>\n",
       "      <td>0.928169</td>\n",
       "      <td>0.932797</td>\n",
       "      <td>0.646215</td>\n",
       "      <td>0.967158</td>\n",
       "      <td>0.729603</td>\n",
       "      <td>9780002005883</td>\n",
       "    </tr>\n",
       "    <tr>\n",
       "      <th>1</th>\n",
       "      <td>0.612619</td>\n",
       "      <td>0.348285</td>\n",
       "      <td>0.942528</td>\n",
       "      <td>0.704421</td>\n",
       "      <td>0.887939</td>\n",
       "      <td>0.111690</td>\n",
       "      <td>0.252545</td>\n",
       "      <td>9780002261982</td>\n",
       "    </tr>\n",
       "    <tr>\n",
       "      <th>2</th>\n",
       "      <td>0.064134</td>\n",
       "      <td>0.104007</td>\n",
       "      <td>0.972321</td>\n",
       "      <td>0.767238</td>\n",
       "      <td>0.549477</td>\n",
       "      <td>0.111690</td>\n",
       "      <td>0.078765</td>\n",
       "      <td>9780006178736</td>\n",
       "    </tr>\n",
       "    <tr>\n",
       "      <th>3</th>\n",
       "      <td>0.351484</td>\n",
       "      <td>0.150722</td>\n",
       "      <td>0.360707</td>\n",
       "      <td>0.251881</td>\n",
       "      <td>0.732686</td>\n",
       "      <td>0.111690</td>\n",
       "      <td>0.078765</td>\n",
       "      <td>9780006280897</td>\n",
       "    </tr>\n",
       "    <tr>\n",
       "      <th>4</th>\n",
       "      <td>0.081412</td>\n",
       "      <td>0.184495</td>\n",
       "      <td>0.095043</td>\n",
       "      <td>0.040564</td>\n",
       "      <td>0.884389</td>\n",
       "      <td>0.475881</td>\n",
       "      <td>0.078765</td>\n",
       "      <td>9780006280934</td>\n",
       "    </tr>\n",
       "    <tr>\n",
       "      <th>...</th>\n",
       "      <td>...</td>\n",
       "      <td>...</td>\n",
       "      <td>...</td>\n",
       "      <td>...</td>\n",
       "      <td>...</td>\n",
       "      <td>...</td>\n",
       "      <td>...</td>\n",
       "      <td>...</td>\n",
       "    </tr>\n",
       "    <tr>\n",
       "      <th>5192</th>\n",
       "      <td>0.148208</td>\n",
       "      <td>0.030643</td>\n",
       "      <td>0.919165</td>\n",
       "      <td>0.255169</td>\n",
       "      <td>0.853722</td>\n",
       "      <td>0.980877</td>\n",
       "      <td>0.030656</td>\n",
       "      <td>9788172235222</td>\n",
       "    </tr>\n",
       "    <tr>\n",
       "      <th>5193</th>\n",
       "      <td>0.064134</td>\n",
       "      <td>0.114383</td>\n",
       "      <td>0.051363</td>\n",
       "      <td>0.400263</td>\n",
       "      <td>0.883198</td>\n",
       "      <td>0.111690</td>\n",
       "      <td>0.227765</td>\n",
       "      <td>9788173031014</td>\n",
       "    </tr>\n",
       "    <tr>\n",
       "      <th>5194</th>\n",
       "      <td>0.009997</td>\n",
       "      <td>0.009929</td>\n",
       "      <td>0.339217</td>\n",
       "      <td>0.947779</td>\n",
       "      <td>0.375756</td>\n",
       "      <td>0.066685</td>\n",
       "      <td>0.057625</td>\n",
       "      <td>9788179921623</td>\n",
       "    </tr>\n",
       "    <tr>\n",
       "      <th>5195</th>\n",
       "      <td>0.064134</td>\n",
       "      <td>0.104007</td>\n",
       "      <td>0.459269</td>\n",
       "      <td>0.759455</td>\n",
       "      <td>0.951104</td>\n",
       "      <td>0.368110</td>\n",
       "      <td>0.078765</td>\n",
       "      <td>9788185300535</td>\n",
       "    </tr>\n",
       "    <tr>\n",
       "      <th>5196</th>\n",
       "      <td>0.064134</td>\n",
       "      <td>0.104007</td>\n",
       "      <td>0.051363</td>\n",
       "      <td>0.958549</td>\n",
       "      <td>0.915193</td>\n",
       "      <td>0.111690</td>\n",
       "      <td>0.078765</td>\n",
       "      <td>9789027712059</td>\n",
       "    </tr>\n",
       "  </tbody>\n",
       "</table>\n",
       "<p>5197 rows × 8 columns</p>\n",
       "</div>"
      ]
     },
     "execution_count": 19,
     "metadata": {},
     "output_type": "execute_result"
    }
   ],
   "execution_count": 19
  },
  {
   "metadata": {
    "ExecuteTime": {
     "end_time": "2025-05-04T17:17:09.677345Z",
     "start_time": "2025-05-04T17:17:09.570893Z"
    }
   },
   "cell_type": "code",
   "source": "books = pd.merge(books, emotions_df, on=\"isbn13\")",
   "id": "4c0a8a55d510285a",
   "outputs": [],
   "execution_count": 20
  },
  {
   "metadata": {
    "ExecuteTime": {
     "end_time": "2025-05-04T17:17:10.465234Z",
     "start_time": "2025-05-04T17:17:10.444212Z"
    }
   },
   "cell_type": "code",
   "source": [
    "books\n",
    "#we really have good distribution of emotions barring some outliers at the end, anyways the good distribution will help us sort further in our recommender"
   ],
   "id": "378511072438a38a",
   "outputs": [
    {
     "data": {
      "text/plain": [
       "             isbn13      isbn10  \\\n",
       "0     9780002005883  0002005883   \n",
       "1     9780002261982  0002261987   \n",
       "2     9780006178736  0006178731   \n",
       "3     9780006280897  0006280897   \n",
       "4     9780006280934  0006280935   \n",
       "...             ...         ...   \n",
       "5192  9788172235222  8172235224   \n",
       "5193  9788173031014  8173031010   \n",
       "5194  9788179921623  817992162X   \n",
       "5195  9788185300535  8185300534   \n",
       "5196  9789027712059  9027712050   \n",
       "\n",
       "                                                  title  \\\n",
       "0                                                Gilead   \n",
       "1                                          Spider's Web   \n",
       "2                                        Rage of angels   \n",
       "3                                        The Four Loves   \n",
       "4                                   The Problem of Pain   \n",
       "...                                                 ...   \n",
       "5192                                  Mistaken Identity   \n",
       "5193                                Journey to the East   \n",
       "5194  The Monk Who Sold His Ferrari: A Fable About F...   \n",
       "5195                                          I Am that   \n",
       "5196                           The Berlin Phenomenology   \n",
       "\n",
       "                                           authors  \\\n",
       "0                               Marilynne Robinson   \n",
       "1                  Charles Osborne;Agatha Christie   \n",
       "2                                   Sidney Sheldon   \n",
       "3                              Clive Staples Lewis   \n",
       "4                              Clive Staples Lewis   \n",
       "...                                            ...   \n",
       "5192                              Nayantara Sahgal   \n",
       "5193                                 Hermann Hesse   \n",
       "5194                                  Robin Sharma   \n",
       "5195  Sri Nisargadatta Maharaj;Sudhakar S. Dikshit   \n",
       "5196                 Georg Wilhelm Friedrich Hegel   \n",
       "\n",
       "                         categories  \\\n",
       "0                           Fiction   \n",
       "1     Detective and mystery stories   \n",
       "2                           Fiction   \n",
       "3                    Christian life   \n",
       "4                    Christian life   \n",
       "...                             ...   \n",
       "5192        Indic fiction (English)   \n",
       "5193              Adventure stories   \n",
       "5194               Health & Fitness   \n",
       "5195                     Philosophy   \n",
       "5196                        History   \n",
       "\n",
       "                                              thumbnail  \\\n",
       "0     http://books.google.com/books/content?id=KQZCP...   \n",
       "1     http://books.google.com/books/content?id=gA5GP...   \n",
       "2     http://books.google.com/books/content?id=FKo2T...   \n",
       "3     http://books.google.com/books/content?id=XhQ5X...   \n",
       "4     http://books.google.com/books/content?id=Kk-uV...   \n",
       "...                                                 ...   \n",
       "5192  http://books.google.com/books/content?id=q-tKP...   \n",
       "5193  http://books.google.com/books/content?id=rq6JP...   \n",
       "5194  http://books.google.com/books/content?id=c_7mf...   \n",
       "5195  http://books.google.com/books/content?id=Fv_JP...   \n",
       "5196  http://books.google.com/books/content?id=Vy7Sk...   \n",
       "\n",
       "                                            description  published_year  \\\n",
       "0     A NOVEL THAT READERS and critics have been eag...          2004.0   \n",
       "1     A new 'Christie for Christmas' -- a full-lengt...          2000.0   \n",
       "2     A memorable, mesmerizing heroine Jennifer -- b...          1993.0   \n",
       "3     Lewis' work on the nature of love divides love...          2002.0   \n",
       "4     \"In The Problem of Pain, C.S. Lewis, one of th...          2002.0   \n",
       "...                                                 ...             ...   \n",
       "5192  On A Train Journey Home To North India After L...          2003.0   \n",
       "5193  This book tells the tale of a man who goes on ...          2002.0   \n",
       "5194  Wisdom to Create a Life of Passion, Purpose, a...          2003.0   \n",
       "5195  This collection of the timeless teachings of o...          1999.0   \n",
       "5196  Since the three volume edition ofHegel's Philo...          1981.0   \n",
       "\n",
       "      average_rating  num_pages  ...  \\\n",
       "0               3.85      247.0  ...   \n",
       "1               3.83      241.0  ...   \n",
       "2               3.93      512.0  ...   \n",
       "3               4.15      170.0  ...   \n",
       "4               4.09      176.0  ...   \n",
       "...              ...        ...  ...   \n",
       "5192            2.93      324.0  ...   \n",
       "5193            3.70      175.0  ...   \n",
       "5194            3.82      198.0  ...   \n",
       "5195            4.51      531.0  ...   \n",
       "5196            0.00      210.0  ...   \n",
       "\n",
       "                                     title_and_subtitle  \\\n",
       "0                                                Gilead   \n",
       "1                                 Spider's Web: A Novel   \n",
       "2                                        Rage of angels   \n",
       "3                                        The Four Loves   \n",
       "4                                   The Problem of Pain   \n",
       "...                                                 ...   \n",
       "5192                                  Mistaken Identity   \n",
       "5193                                Journey to the East   \n",
       "5194  The Monk Who Sold His Ferrari: A Fable About F...   \n",
       "5195     I Am that: Talks with Sri Nisargadatta Maharaj   \n",
       "5196                           The Berlin Phenomenology   \n",
       "\n",
       "                                     tagged_description simple_categories  \\\n",
       "0     9780002005883 A NOVEL THAT READERS and critics...           Fiction   \n",
       "1     9780002261982 A new 'Christie for Christmas' -...           Fiction   \n",
       "2     9780006178736 A memorable, mesmerizing heroine...           Fiction   \n",
       "3     9780006280897 Lewis' work on the nature of lov...        Nonfiction   \n",
       "4     9780006280934 \"In The Problem of Pain, C.S. Le...        Nonfiction   \n",
       "...                                                 ...               ...   \n",
       "5192  9788172235222 On A Train Journey Home To North...           Fiction   \n",
       "5193  9788173031014 This book tells the tale of a ma...        Nonfiction   \n",
       "5194  9788179921623 Wisdom to Create a Life of Passi...           Fiction   \n",
       "5195  9788185300535 This collection of the timeless ...        Nonfiction   \n",
       "5196  9789027712059 Since the three volume edition o...        Nonfiction   \n",
       "\n",
       "         anger   disgust      fear       joy   sadness  surprise   neutral  \n",
       "0     0.064134  0.273591  0.928169  0.932797  0.646215  0.967158  0.729603  \n",
       "1     0.612619  0.348285  0.942528  0.704421  0.887939  0.111690  0.252545  \n",
       "2     0.064134  0.104007  0.972321  0.767238  0.549477  0.111690  0.078765  \n",
       "3     0.351484  0.150722  0.360707  0.251881  0.732686  0.111690  0.078765  \n",
       "4     0.081412  0.184495  0.095043  0.040564  0.884389  0.475881  0.078765  \n",
       "...        ...       ...       ...       ...       ...       ...       ...  \n",
       "5192  0.148208  0.030643  0.919165  0.255169  0.853722  0.980877  0.030656  \n",
       "5193  0.064134  0.114383  0.051363  0.400263  0.883198  0.111690  0.227765  \n",
       "5194  0.009997  0.009929  0.339217  0.947779  0.375756  0.066685  0.057625  \n",
       "5195  0.064134  0.104007  0.459269  0.759455  0.951104  0.368110  0.078765  \n",
       "5196  0.064134  0.104007  0.051363  0.958549  0.915193  0.111690  0.078765  \n",
       "\n",
       "[5197 rows x 21 columns]"
      ],
      "text/html": [
       "<div>\n",
       "<style scoped>\n",
       "    .dataframe tbody tr th:only-of-type {\n",
       "        vertical-align: middle;\n",
       "    }\n",
       "\n",
       "    .dataframe tbody tr th {\n",
       "        vertical-align: top;\n",
       "    }\n",
       "\n",
       "    .dataframe thead th {\n",
       "        text-align: right;\n",
       "    }\n",
       "</style>\n",
       "<table border=\"1\" class=\"dataframe\">\n",
       "  <thead>\n",
       "    <tr style=\"text-align: right;\">\n",
       "      <th></th>\n",
       "      <th>isbn13</th>\n",
       "      <th>isbn10</th>\n",
       "      <th>title</th>\n",
       "      <th>authors</th>\n",
       "      <th>categories</th>\n",
       "      <th>thumbnail</th>\n",
       "      <th>description</th>\n",
       "      <th>published_year</th>\n",
       "      <th>average_rating</th>\n",
       "      <th>num_pages</th>\n",
       "      <th>...</th>\n",
       "      <th>title_and_subtitle</th>\n",
       "      <th>tagged_description</th>\n",
       "      <th>simple_categories</th>\n",
       "      <th>anger</th>\n",
       "      <th>disgust</th>\n",
       "      <th>fear</th>\n",
       "      <th>joy</th>\n",
       "      <th>sadness</th>\n",
       "      <th>surprise</th>\n",
       "      <th>neutral</th>\n",
       "    </tr>\n",
       "  </thead>\n",
       "  <tbody>\n",
       "    <tr>\n",
       "      <th>0</th>\n",
       "      <td>9780002005883</td>\n",
       "      <td>0002005883</td>\n",
       "      <td>Gilead</td>\n",
       "      <td>Marilynne Robinson</td>\n",
       "      <td>Fiction</td>\n",
       "      <td>http://books.google.com/books/content?id=KQZCP...</td>\n",
       "      <td>A NOVEL THAT READERS and critics have been eag...</td>\n",
       "      <td>2004.0</td>\n",
       "      <td>3.85</td>\n",
       "      <td>247.0</td>\n",
       "      <td>...</td>\n",
       "      <td>Gilead</td>\n",
       "      <td>9780002005883 A NOVEL THAT READERS and critics...</td>\n",
       "      <td>Fiction</td>\n",
       "      <td>0.064134</td>\n",
       "      <td>0.273591</td>\n",
       "      <td>0.928169</td>\n",
       "      <td>0.932797</td>\n",
       "      <td>0.646215</td>\n",
       "      <td>0.967158</td>\n",
       "      <td>0.729603</td>\n",
       "    </tr>\n",
       "    <tr>\n",
       "      <th>1</th>\n",
       "      <td>9780002261982</td>\n",
       "      <td>0002261987</td>\n",
       "      <td>Spider's Web</td>\n",
       "      <td>Charles Osborne;Agatha Christie</td>\n",
       "      <td>Detective and mystery stories</td>\n",
       "      <td>http://books.google.com/books/content?id=gA5GP...</td>\n",
       "      <td>A new 'Christie for Christmas' -- a full-lengt...</td>\n",
       "      <td>2000.0</td>\n",
       "      <td>3.83</td>\n",
       "      <td>241.0</td>\n",
       "      <td>...</td>\n",
       "      <td>Spider's Web: A Novel</td>\n",
       "      <td>9780002261982 A new 'Christie for Christmas' -...</td>\n",
       "      <td>Fiction</td>\n",
       "      <td>0.612619</td>\n",
       "      <td>0.348285</td>\n",
       "      <td>0.942528</td>\n",
       "      <td>0.704421</td>\n",
       "      <td>0.887939</td>\n",
       "      <td>0.111690</td>\n",
       "      <td>0.252545</td>\n",
       "    </tr>\n",
       "    <tr>\n",
       "      <th>2</th>\n",
       "      <td>9780006178736</td>\n",
       "      <td>0006178731</td>\n",
       "      <td>Rage of angels</td>\n",
       "      <td>Sidney Sheldon</td>\n",
       "      <td>Fiction</td>\n",
       "      <td>http://books.google.com/books/content?id=FKo2T...</td>\n",
       "      <td>A memorable, mesmerizing heroine Jennifer -- b...</td>\n",
       "      <td>1993.0</td>\n",
       "      <td>3.93</td>\n",
       "      <td>512.0</td>\n",
       "      <td>...</td>\n",
       "      <td>Rage of angels</td>\n",
       "      <td>9780006178736 A memorable, mesmerizing heroine...</td>\n",
       "      <td>Fiction</td>\n",
       "      <td>0.064134</td>\n",
       "      <td>0.104007</td>\n",
       "      <td>0.972321</td>\n",
       "      <td>0.767238</td>\n",
       "      <td>0.549477</td>\n",
       "      <td>0.111690</td>\n",
       "      <td>0.078765</td>\n",
       "    </tr>\n",
       "    <tr>\n",
       "      <th>3</th>\n",
       "      <td>9780006280897</td>\n",
       "      <td>0006280897</td>\n",
       "      <td>The Four Loves</td>\n",
       "      <td>Clive Staples Lewis</td>\n",
       "      <td>Christian life</td>\n",
       "      <td>http://books.google.com/books/content?id=XhQ5X...</td>\n",
       "      <td>Lewis' work on the nature of love divides love...</td>\n",
       "      <td>2002.0</td>\n",
       "      <td>4.15</td>\n",
       "      <td>170.0</td>\n",
       "      <td>...</td>\n",
       "      <td>The Four Loves</td>\n",
       "      <td>9780006280897 Lewis' work on the nature of lov...</td>\n",
       "      <td>Nonfiction</td>\n",
       "      <td>0.351484</td>\n",
       "      <td>0.150722</td>\n",
       "      <td>0.360707</td>\n",
       "      <td>0.251881</td>\n",
       "      <td>0.732686</td>\n",
       "      <td>0.111690</td>\n",
       "      <td>0.078765</td>\n",
       "    </tr>\n",
       "    <tr>\n",
       "      <th>4</th>\n",
       "      <td>9780006280934</td>\n",
       "      <td>0006280935</td>\n",
       "      <td>The Problem of Pain</td>\n",
       "      <td>Clive Staples Lewis</td>\n",
       "      <td>Christian life</td>\n",
       "      <td>http://books.google.com/books/content?id=Kk-uV...</td>\n",
       "      <td>\"In The Problem of Pain, C.S. Lewis, one of th...</td>\n",
       "      <td>2002.0</td>\n",
       "      <td>4.09</td>\n",
       "      <td>176.0</td>\n",
       "      <td>...</td>\n",
       "      <td>The Problem of Pain</td>\n",
       "      <td>9780006280934 \"In The Problem of Pain, C.S. Le...</td>\n",
       "      <td>Nonfiction</td>\n",
       "      <td>0.081412</td>\n",
       "      <td>0.184495</td>\n",
       "      <td>0.095043</td>\n",
       "      <td>0.040564</td>\n",
       "      <td>0.884389</td>\n",
       "      <td>0.475881</td>\n",
       "      <td>0.078765</td>\n",
       "    </tr>\n",
       "    <tr>\n",
       "      <th>...</th>\n",
       "      <td>...</td>\n",
       "      <td>...</td>\n",
       "      <td>...</td>\n",
       "      <td>...</td>\n",
       "      <td>...</td>\n",
       "      <td>...</td>\n",
       "      <td>...</td>\n",
       "      <td>...</td>\n",
       "      <td>...</td>\n",
       "      <td>...</td>\n",
       "      <td>...</td>\n",
       "      <td>...</td>\n",
       "      <td>...</td>\n",
       "      <td>...</td>\n",
       "      <td>...</td>\n",
       "      <td>...</td>\n",
       "      <td>...</td>\n",
       "      <td>...</td>\n",
       "      <td>...</td>\n",
       "      <td>...</td>\n",
       "      <td>...</td>\n",
       "    </tr>\n",
       "    <tr>\n",
       "      <th>5192</th>\n",
       "      <td>9788172235222</td>\n",
       "      <td>8172235224</td>\n",
       "      <td>Mistaken Identity</td>\n",
       "      <td>Nayantara Sahgal</td>\n",
       "      <td>Indic fiction (English)</td>\n",
       "      <td>http://books.google.com/books/content?id=q-tKP...</td>\n",
       "      <td>On A Train Journey Home To North India After L...</td>\n",
       "      <td>2003.0</td>\n",
       "      <td>2.93</td>\n",
       "      <td>324.0</td>\n",
       "      <td>...</td>\n",
       "      <td>Mistaken Identity</td>\n",
       "      <td>9788172235222 On A Train Journey Home To North...</td>\n",
       "      <td>Fiction</td>\n",
       "      <td>0.148208</td>\n",
       "      <td>0.030643</td>\n",
       "      <td>0.919165</td>\n",
       "      <td>0.255169</td>\n",
       "      <td>0.853722</td>\n",
       "      <td>0.980877</td>\n",
       "      <td>0.030656</td>\n",
       "    </tr>\n",
       "    <tr>\n",
       "      <th>5193</th>\n",
       "      <td>9788173031014</td>\n",
       "      <td>8173031010</td>\n",
       "      <td>Journey to the East</td>\n",
       "      <td>Hermann Hesse</td>\n",
       "      <td>Adventure stories</td>\n",
       "      <td>http://books.google.com/books/content?id=rq6JP...</td>\n",
       "      <td>This book tells the tale of a man who goes on ...</td>\n",
       "      <td>2002.0</td>\n",
       "      <td>3.70</td>\n",
       "      <td>175.0</td>\n",
       "      <td>...</td>\n",
       "      <td>Journey to the East</td>\n",
       "      <td>9788173031014 This book tells the tale of a ma...</td>\n",
       "      <td>Nonfiction</td>\n",
       "      <td>0.064134</td>\n",
       "      <td>0.114383</td>\n",
       "      <td>0.051363</td>\n",
       "      <td>0.400263</td>\n",
       "      <td>0.883198</td>\n",
       "      <td>0.111690</td>\n",
       "      <td>0.227765</td>\n",
       "    </tr>\n",
       "    <tr>\n",
       "      <th>5194</th>\n",
       "      <td>9788179921623</td>\n",
       "      <td>817992162X</td>\n",
       "      <td>The Monk Who Sold His Ferrari: A Fable About F...</td>\n",
       "      <td>Robin Sharma</td>\n",
       "      <td>Health &amp; Fitness</td>\n",
       "      <td>http://books.google.com/books/content?id=c_7mf...</td>\n",
       "      <td>Wisdom to Create a Life of Passion, Purpose, a...</td>\n",
       "      <td>2003.0</td>\n",
       "      <td>3.82</td>\n",
       "      <td>198.0</td>\n",
       "      <td>...</td>\n",
       "      <td>The Monk Who Sold His Ferrari: A Fable About F...</td>\n",
       "      <td>9788179921623 Wisdom to Create a Life of Passi...</td>\n",
       "      <td>Fiction</td>\n",
       "      <td>0.009997</td>\n",
       "      <td>0.009929</td>\n",
       "      <td>0.339217</td>\n",
       "      <td>0.947779</td>\n",
       "      <td>0.375756</td>\n",
       "      <td>0.066685</td>\n",
       "      <td>0.057625</td>\n",
       "    </tr>\n",
       "    <tr>\n",
       "      <th>5195</th>\n",
       "      <td>9788185300535</td>\n",
       "      <td>8185300534</td>\n",
       "      <td>I Am that</td>\n",
       "      <td>Sri Nisargadatta Maharaj;Sudhakar S. Dikshit</td>\n",
       "      <td>Philosophy</td>\n",
       "      <td>http://books.google.com/books/content?id=Fv_JP...</td>\n",
       "      <td>This collection of the timeless teachings of o...</td>\n",
       "      <td>1999.0</td>\n",
       "      <td>4.51</td>\n",
       "      <td>531.0</td>\n",
       "      <td>...</td>\n",
       "      <td>I Am that: Talks with Sri Nisargadatta Maharaj</td>\n",
       "      <td>9788185300535 This collection of the timeless ...</td>\n",
       "      <td>Nonfiction</td>\n",
       "      <td>0.064134</td>\n",
       "      <td>0.104007</td>\n",
       "      <td>0.459269</td>\n",
       "      <td>0.759455</td>\n",
       "      <td>0.951104</td>\n",
       "      <td>0.368110</td>\n",
       "      <td>0.078765</td>\n",
       "    </tr>\n",
       "    <tr>\n",
       "      <th>5196</th>\n",
       "      <td>9789027712059</td>\n",
       "      <td>9027712050</td>\n",
       "      <td>The Berlin Phenomenology</td>\n",
       "      <td>Georg Wilhelm Friedrich Hegel</td>\n",
       "      <td>History</td>\n",
       "      <td>http://books.google.com/books/content?id=Vy7Sk...</td>\n",
       "      <td>Since the three volume edition ofHegel's Philo...</td>\n",
       "      <td>1981.0</td>\n",
       "      <td>0.00</td>\n",
       "      <td>210.0</td>\n",
       "      <td>...</td>\n",
       "      <td>The Berlin Phenomenology</td>\n",
       "      <td>9789027712059 Since the three volume edition o...</td>\n",
       "      <td>Nonfiction</td>\n",
       "      <td>0.064134</td>\n",
       "      <td>0.104007</td>\n",
       "      <td>0.051363</td>\n",
       "      <td>0.958549</td>\n",
       "      <td>0.915193</td>\n",
       "      <td>0.111690</td>\n",
       "      <td>0.078765</td>\n",
       "    </tr>\n",
       "  </tbody>\n",
       "</table>\n",
       "<p>5197 rows × 21 columns</p>\n",
       "</div>"
      ]
     },
     "execution_count": 21,
     "metadata": {},
     "output_type": "execute_result"
    }
   ],
   "execution_count": 21
  },
  {
   "metadata": {
    "ExecuteTime": {
     "end_time": "2025-05-04T17:17:44.640577Z",
     "start_time": "2025-05-04T17:17:44.493783Z"
    }
   },
   "cell_type": "code",
   "source": "books.to_csv(\"books_with_emotions.csv\", index=False)",
   "id": "6d1987ef25dc00de",
   "outputs": [],
   "execution_count": 22
  }
 ],
 "metadata": {
  "kernelspec": {
   "display_name": "Python 3",
   "language": "python",
   "name": "python3"
  },
  "language_info": {
   "codemirror_mode": {
    "name": "ipython",
    "version": 2
   },
   "file_extension": ".py",
   "mimetype": "text/x-python",
   "name": "python",
   "nbconvert_exporter": "python",
   "pygments_lexer": "ipython2",
   "version": "2.7.6"
  }
 },
 "nbformat": 4,
 "nbformat_minor": 5
}
